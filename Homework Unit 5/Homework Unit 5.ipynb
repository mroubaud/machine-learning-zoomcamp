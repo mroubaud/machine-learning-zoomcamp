{
 "cells": [
  {
   "cell_type": "code",
   "execution_count": 1,
   "id": "ffd8c94b",
   "metadata": {},
   "outputs": [],
   "source": [
    "###Question 1\n",
    "#Install Pipenv\n",
    "#What's the version of pipenv you installed?\n",
    "#Use --version to find out\n",
    "#--->pipenv, version 2023.10.3"
   ]
  },
  {
   "cell_type": "code",
   "execution_count": 2,
   "id": "7f9da3b9",
   "metadata": {},
   "outputs": [],
   "source": [
    "###Question 2\n",
    "#Use Pipenv to install Scikit-Learn version 1.3.1\n",
    "#What's the first hash for scikit-learn you get in Pipfile.lock?\n",
    "#Note: you should create an empty folder for homework and do it there\n",
    "#--->sha256:0c275a06c5190c5ce00af0acbb61c06374087949f643ef32d355ece12c4db043"
   ]
  },
  {
   "cell_type": "code",
   "execution_count": 3,
   "id": "00ca5bd3",
   "metadata": {},
   "outputs": [],
   "source": [
    "###Question 3\n",
    "#Let's use these models!\n",
    "\n",
    "#Write a script for loading these models with pickle\n",
    "#Score this client:\n",
    "#{\"job\": \"retired\", \"duration\": 445, \"poutcome\": \"success\"}\n",
    "#What's the probability that this client will get a credit? -> 0.902\n",
    "\n",
    "#0.162\n",
    "#0.392\n",
    "#0.652\n",
    "#0.902"
   ]
  },
  {
   "cell_type": "code",
   "execution_count": 4,
   "id": "54cdee03",
   "metadata": {},
   "outputs": [],
   "source": [
    "###Question 4\n",
    "#Now let's serve this model as a web service\n",
    "\n",
    "#Install Flask and gunicorn (or waitress, if you're on Windows)\n",
    "#Write Flask code for serving the model\n",
    "#Now score this client using requests:\n",
    "#url = \"YOUR_URL\"\n",
    "#client = {\"job\": \"unknown\", \"duration\": 270, \"poutcome\": \"failure\"}\n",
    "#requests.post(url, json=client).json()\n",
    "#What's the probability that this client will get a credit? -> 0.14\n",
    "\n",
    "#0.140\n",
    "#0.440\n",
    "#0.645\n",
    "#0.845"
   ]
  },
  {
   "cell_type": "code",
   "execution_count": 5,
   "id": "92de6d0c",
   "metadata": {},
   "outputs": [],
   "source": [
    "###Question 5\n",
    "#Download the base image svizor/zoomcamp-model:3.10.12-slim. You can easily make it by using docker pull command.\n",
    "\n",
    "#So what's the size of this base image? -> 147 MB\n",
    "\n",
    "#47 MB\n",
    "#147 MB\n",
    "#374 MB\n",
    "#574 MB\n",
    "#You can get this information when running docker images - it'll be in the \"SIZE\" column."
   ]
  },
  {
   "cell_type": "code",
   "execution_count": 6,
   "id": "25fb467e",
   "metadata": {},
   "outputs": [],
   "source": [
    "###Question 6\n",
    "#Let's run your docker container!\n",
    "#After running it, score this client once again:\n",
    "\n",
    "#url = \"YOUR_URL\"\n",
    "#client = {\"job\": \"retired\", \"duration\": 445, \"poutcome\": \"success\"}\n",
    "#requests.post(url, json=client).json()\n",
    "#What's the probability that this client will get a credit now? -> 0.730\n",
    "\n",
    "#0.168\n",
    "#0.530\n",
    "#0.730\n",
    "#0.968"
   ]
  },
  {
   "cell_type": "code",
   "execution_count": null,
   "id": "a1dbefbf",
   "metadata": {},
   "outputs": [],
   "source": []
  }
 ],
 "metadata": {
  "kernelspec": {
   "display_name": "Python 3 (ipykernel)",
   "language": "python",
   "name": "python3"
  },
  "language_info": {
   "codemirror_mode": {
    "name": "ipython",
    "version": 3
   },
   "file_extension": ".py",
   "mimetype": "text/x-python",
   "name": "python",
   "nbconvert_exporter": "python",
   "pygments_lexer": "ipython3",
   "version": "3.10.9"
  }
 },
 "nbformat": 4,
 "nbformat_minor": 5
}
