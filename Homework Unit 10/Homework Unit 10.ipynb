{
 "cells": [
  {
   "cell_type": "markdown",
   "id": "22b62cae",
   "metadata": {},
   "source": [
    "## Question 1\n",
    "Run it to test that it's working locally:\n",
    "\n",
    "docker run -it --rm -p 9696:9696 zoomcamp-model:hw10\n",
    "And in another terminal, execute q6_test.py file:\n",
    "\n",
    "python q6_test.py\n",
    "You should see this:\n",
    "\n",
    "{'get_credit': True, 'get_credit_probability': <value>}\n",
    "Here <value> is the probability of getting a credit card. You need to choose the right one.\n",
    "\n",
    "* 0.3269\n",
    "* 0.5269\n",
    "*  **0.7269**\n",
    "* 0.9269\n",
    "    \n",
    "Now you can stop the container running in Docker."
   ]
  },
  {
   "cell_type": "markdown",
   "id": "c576e92d",
   "metadata": {},
   "source": [
    "## Question 2\n",
    "What's the version of kind that you have?\n",
    "\n",
    "Use kind --version to find out.\n",
    "\n",
    "**kind version 0.20.0**"
   ]
  },
  {
   "cell_type": "markdown",
   "id": "9ac562ef",
   "metadata": {},
   "source": [
    "## Question 3\n",
    "Now let's test if everything works. Use kubectl to get the list of running services.\n",
    "\n",
    "What's CLUSTER-IP of the service that is already running there? **10.96.0.1**\n",
    "\n"
   ]
  },
  {
   "cell_type": "markdown",
   "id": "1a579c2e",
   "metadata": {},
   "source": [
    "**NAME**: kubernetes \n",
    "\n",
    "**TYPE**: ClusterIP\n",
    "\n",
    "**CLUSTER-IP**: 10.96.0.1  \n",
    "\n",
    "**EXTERNAL-IP**: none  \n",
    "\n",
    "**PORT(S)**: 443/TCP\n",
    "\n",
    "**AGE**: 7m22s\n",
    "                   "
   ]
  },
  {
   "cell_type": "markdown",
   "id": "51cfaf29",
   "metadata": {},
   "source": [
    "## Question 4\n",
    "To be able to use the docker image we previously created (zoomcamp-model:hw10), we need to register it with kind.\n",
    "\n",
    "What's the command we need to run for that?\n",
    "\n",
    "* kind create cluster\n",
    "* kind build node-image\n",
    "* **kind load docker-image**\n",
    "* kubectl apply"
   ]
  },
  {
   "cell_type": "markdown",
   "id": "7aa0e2d9",
   "metadata": {},
   "source": [
    "## Question 5\n",
    "Now let's create a deployment config (e.g. deployment.yaml)\n",
    "Replace <Image>, <Memory>, <CPU>, <Port> with the correct values.\n",
    "\n",
    "What is the value for <Port>? **9696**\n",
    "\n",
    "Apply this deployment using the appropriate command and get a list of running Pods. You can see one running Pod.\n",
    "    \n"
   ]
  },
  {
   "cell_type": "markdown",
   "id": "9f82f8b1",
   "metadata": {},
   "source": [
    "## Question 6\n",
    "Let's create a service for this deployment (service.yaml):\n",
    "Fill it in. What do we need to write instead of ??? (**credit**)\n",
    "\n",
    "Apply this config file."
   ]
  },
  {
   "cell_type": "markdown",
   "id": "af9e8e5e",
   "metadata": {},
   "source": [
    "## Question 7 (optional)\n",
    "Run kubectl get hpa credit-hpa --watch command to monitor how the autoscaler performs. Within a minute or so, you should see the higher CPU load; and then - more replicas. What was the maximum amount of the replicas during this test?\n",
    "\n",
    "* 1\n",
    "* 2\n",
    "* 3\n",
    "* 4"
   ]
  },
  {
   "cell_type": "code",
   "execution_count": null,
   "id": "df1a0ae9",
   "metadata": {},
   "outputs": [],
   "source": []
  }
 ],
 "metadata": {
  "kernelspec": {
   "display_name": "Python 3 (ipykernel)",
   "language": "python",
   "name": "python3"
  },
  "language_info": {
   "codemirror_mode": {
    "name": "ipython",
    "version": 3
   },
   "file_extension": ".py",
   "mimetype": "text/x-python",
   "name": "python",
   "nbconvert_exporter": "python",
   "pygments_lexer": "ipython3",
   "version": "3.11.5"
  }
 },
 "nbformat": 4,
 "nbformat_minor": 5
}
